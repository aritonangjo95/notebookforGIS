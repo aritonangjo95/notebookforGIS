{
 "cells": [
  {
   "cell_type": "markdown",
   "metadata": {},
   "source": [
    "# ZOMATO API request data extraction based on Lat Long\n",
    "## by Nr\n",
    "### This notebook require zomato API key (https://developers.zomato.com/api?lang=id), CSV of ID and Coordinates.\n",
    "#### Step: QGIS>>Create HexGrid>>Compute Centroid>> Give ID>> Export as CSV\n",
    "#### Exported CSV>>as input in this notebook>>Output csv (Zomato data enchanced)"
   ]
  },
  {
   "cell_type": "code",
   "execution_count": 40,
   "metadata": {},
   "outputs": [],
   "source": [
    "import requests\n",
    "import ast\n",
    "import json\n",
    "import pandas as pd"
   ]
  },
  {
   "cell_type": "code",
   "execution_count": 106,
   "metadata": {},
   "outputs": [],
   "source": [
    "data=pd.read_csv(\"./misskel.csv\") #HEXBIN Centroid ID,LAT,LONG (geodetic,WGS84)"
   ]
  },
  {
   "cell_type": "code",
   "execution_count": 107,
   "metadata": {},
   "outputs": [
    {
     "data": {
      "text/html": [
       "<div>\n",
       "<style scoped>\n",
       "    .dataframe tbody tr th:only-of-type {\n",
       "        vertical-align: middle;\n",
       "    }\n",
       "\n",
       "    .dataframe tbody tr th {\n",
       "        vertical-align: top;\n",
       "    }\n",
       "\n",
       "    .dataframe thead th {\n",
       "        text-align: right;\n",
       "    }\n",
       "</style>\n",
       "<table border=\"1\" class=\"dataframe\">\n",
       "  <thead>\n",
       "    <tr style=\"text-align: right;\">\n",
       "      <th></th>\n",
       "      <th>ID</th>\n",
       "      <th>long</th>\n",
       "      <th>lat</th>\n",
       "    </tr>\n",
       "  </thead>\n",
       "  <tbody>\n",
       "    <tr>\n",
       "      <td>0</td>\n",
       "      <td>1</td>\n",
       "      <td>106.88667</td>\n",
       "      <td>-6.13724</td>\n",
       "    </tr>\n",
       "    <tr>\n",
       "      <td>1</td>\n",
       "      <td>2</td>\n",
       "      <td>106.88667</td>\n",
       "      <td>-6.12569</td>\n",
       "    </tr>\n",
       "    <tr>\n",
       "      <td>2</td>\n",
       "      <td>3</td>\n",
       "      <td>106.88667</td>\n",
       "      <td>-6.11414</td>\n",
       "    </tr>\n",
       "    <tr>\n",
       "      <td>3</td>\n",
       "      <td>4</td>\n",
       "      <td>106.88667</td>\n",
       "      <td>-6.10260</td>\n",
       "    </tr>\n",
       "    <tr>\n",
       "      <td>4</td>\n",
       "      <td>5</td>\n",
       "      <td>106.89667</td>\n",
       "      <td>-6.37395</td>\n",
       "    </tr>\n",
       "    <tr>\n",
       "      <td>...</td>\n",
       "      <td>...</td>\n",
       "      <td>...</td>\n",
       "      <td>...</td>\n",
       "    </tr>\n",
       "    <tr>\n",
       "      <td>510</td>\n",
       "      <td>511</td>\n",
       "      <td>106.88667</td>\n",
       "      <td>-6.19497</td>\n",
       "    </tr>\n",
       "    <tr>\n",
       "      <td>511</td>\n",
       "      <td>512</td>\n",
       "      <td>106.88667</td>\n",
       "      <td>-6.18342</td>\n",
       "    </tr>\n",
       "    <tr>\n",
       "      <td>512</td>\n",
       "      <td>513</td>\n",
       "      <td>106.88667</td>\n",
       "      <td>-6.17188</td>\n",
       "    </tr>\n",
       "    <tr>\n",
       "      <td>513</td>\n",
       "      <td>514</td>\n",
       "      <td>106.88667</td>\n",
       "      <td>-6.16033</td>\n",
       "    </tr>\n",
       "    <tr>\n",
       "      <td>514</td>\n",
       "      <td>515</td>\n",
       "      <td>106.88667</td>\n",
       "      <td>-6.14878</td>\n",
       "    </tr>\n",
       "  </tbody>\n",
       "</table>\n",
       "<p>515 rows × 3 columns</p>\n",
       "</div>"
      ],
      "text/plain": [
       "      ID       long      lat\n",
       "0      1  106.88667 -6.13724\n",
       "1      2  106.88667 -6.12569\n",
       "2      3  106.88667 -6.11414\n",
       "3      4  106.88667 -6.10260\n",
       "4      5  106.89667 -6.37395\n",
       "..   ...        ...      ...\n",
       "510  511  106.88667 -6.19497\n",
       "511  512  106.88667 -6.18342\n",
       "512  513  106.88667 -6.17188\n",
       "513  514  106.88667 -6.16033\n",
       "514  515  106.88667 -6.14878\n",
       "\n",
       "[515 rows x 3 columns]"
      ]
     },
     "execution_count": 107,
     "metadata": {},
     "output_type": "execute_result"
    }
   ],
   "source": [
    "data"
   ]
  },
  {
   "cell_type": "code",
   "execution_count": 135,
   "metadata": {},
   "outputs": [],
   "source": [
    "#ZOMATO API REQUEST PER COORDINATE\n",
    "base_url = \"https://developers.zomato.com/api/v2.1/\"\n",
    "APIkey='your_Zomato_API_key' # YOUR Zomato API KEY\n",
    "headers = {'Accept': 'application/json', 'user-key': APIkey}\n",
    "\n",
    "s=[]\n",
    "for i in range(0,len(data)):\n",
    "    r = (requests.get(base_url + \"geocode?lat=\" + str(data['lat'].iloc[i]) + \"&lon=\" + str(data['long'].iloc[i]), headers=headers).json())\n",
    "    s.append([r['location']['title'],r['popularity']['top_cuisines'],float(r['popularity']['popularity']),float(r['popularity']['nightlife_index']),len(r['nearby_restaurants'])])"
   ]
  },
  {
   "cell_type": "code",
   "execution_count": 149,
   "metadata": {},
   "outputs": [],
   "source": [
    "extract=pd.DataFrame(s)"
   ]
  },
  {
   "cell_type": "code",
   "execution_count": 155,
   "metadata": {},
   "outputs": [],
   "source": [
    "df=pd.concat([data['ID'],extract],axis=1)"
   ]
  },
  {
   "cell_type": "code",
   "execution_count": 159,
   "metadata": {},
   "outputs": [],
   "source": [
    "df2=df.rename(columns={0: \"lokasi\", 1: \"top_cuisines\", 2: \"popularity\", 3: \"nightlife_index\",4: \"restaurant count\"})"
   ]
  },
  {
   "cell_type": "code",
   "execution_count": 160,
   "metadata": {},
   "outputs": [],
   "source": [
    "df2[['top_cuisines1','top_cuisines2','top_cuisines3','top_cuisines4','top_cuisines5']] = pd.DataFrame(df2.top_cuisines.tolist(), index= df2.index)"
   ]
  },
  {
   "cell_type": "code",
   "execution_count": 162,
   "metadata": {},
   "outputs": [],
   "source": [
    "df2=df2.drop(['top_cuisines'], axis=1)"
   ]
  },
  {
   "cell_type": "code",
   "execution_count": 164,
   "metadata": {},
   "outputs": [],
   "source": [
    "df2.to_csv('zomato.csv') #FINAL OUTPUT file name"
   ]
  },
  {
   "cell_type": "code",
   "execution_count": null,
   "metadata": {},
   "outputs": [],
   "source": []
  }
 ],
 "metadata": {
  "kernelspec": {
   "display_name": "Python 3",
   "language": "python",
   "name": "python3"
  },
  "language_info": {
   "codemirror_mode": {
    "name": "ipython",
    "version": 3
   },
   "file_extension": ".py",
   "mimetype": "text/x-python",
   "name": "python",
   "nbconvert_exporter": "python",
   "pygments_lexer": "ipython3",
   "version": "3.7.4"
  }
 },
 "nbformat": 4,
 "nbformat_minor": 2
}
